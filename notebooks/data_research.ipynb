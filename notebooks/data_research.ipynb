{
 "cells": [
  {
   "cell_type": "markdown",
   "id": "d5011a3c-5338-4b01-b2c8-70639fd6f30a",
   "metadata": {},
   "source": [
    "# data research"
   ]
  },
  {
   "cell_type": "markdown",
   "id": "78d936a5-3246-4b57-9f61-8f7f29b88031",
   "metadata": {},
   "source": [
    "Тут больше про исследование данных"
   ]
  },
  {
   "cell_type": "code",
   "execution_count": 30,
   "id": "473bb676-fbe3-47a5-af29-cd942299d746",
   "metadata": {
    "tags": []
   },
   "outputs": [],
   "source": [
    "import pandas as pd\n",
    "from gensim.models.doc2vec import Doc2Vec, TaggedDocument\n",
    "import re\n",
    "from tqdm.notebook import tqdm\n",
    "\n",
    "from sklearn.metrics.pairwise import cosine_similarity\n",
    "\n",
    "import glob\n",
    "\n",
    "from dotenv import load_dotenv\n",
    "import os\n",
    "\n",
    "import seaborn as sns\n",
    "import numpy as np"
   ]
  },
  {
   "cell_type": "code",
   "execution_count": 14,
   "id": "7cc937e1-e0ae-4ea6-b7fc-6d40d680a411",
   "metadata": {
    "tags": []
   },
   "outputs": [],
   "source": [
    "load_dotenv()\n",
    "\n",
    "PATH_DATA = os.getenv(\"PATH_DATA\")\n",
    "\n",
    "globPaths = glob.glob(f'{PATH_DATA}/data.csv', )\n",
    "if len(globPaths) > 1:\n",
    "    raise ValueError('Датасетов больше')"
   ]
  },
  {
   "cell_type": "code",
   "execution_count": 17,
   "id": "cb56e762-ffd1-4fdc-8403-d126e17fdc55",
   "metadata": {
    "tags": []
   },
   "outputs": [
    {
     "name": "stdout",
     "output_type": "stream",
     "text": [
      "(3128112, 9)\n"
     ]
    },
    {
     "data": {
      "text/html": [
       "<div>\n",
       "<style scoped>\n",
       "    .dataframe tbody tr th:only-of-type {\n",
       "        vertical-align: middle;\n",
       "    }\n",
       "\n",
       "    .dataframe tbody tr th {\n",
       "        vertical-align: top;\n",
       "    }\n",
       "\n",
       "    .dataframe thead th {\n",
       "        text-align: right;\n",
       "    }\n",
       "</style>\n",
       "<table border=\"1\" class=\"dataframe\">\n",
       "  <thead>\n",
       "    <tr style=\"text-align: right;\">\n",
       "      <th></th>\n",
       "      <th>Unnamed: 0</th>\n",
       "      <th>id_sol</th>\n",
       "      <th>title_sol</th>\n",
       "      <th>commentCount</th>\n",
       "      <th>topLevelCommentCount</th>\n",
       "      <th>viewCount</th>\n",
       "      <th>solutionTags</th>\n",
       "      <th>post_id</th>\n",
       "      <th>post_content</th>\n",
       "    </tr>\n",
       "  </thead>\n",
       "  <tbody>\n",
       "    <tr>\n",
       "      <th>0</th>\n",
       "      <td>0</td>\n",
       "      <td>3619262.0</td>\n",
       "      <td>✅3 Method's || C++ || JAVA || PYTHON || Beginn...</td>\n",
       "      <td>22.0</td>\n",
       "      <td>12.0</td>\n",
       "      <td>64593.0</td>\n",
       "      <td>['C++', 'Java', 'Python3', 'Array', 'Hash Table']</td>\n",
       "      <td>5545248.0</td>\n",
       "      <td># Intuition\\n&lt;!-- Describe your first thoughts...</td>\n",
       "    </tr>\n",
       "    <tr>\n",
       "      <th>1</th>\n",
       "      <td>1</td>\n",
       "      <td>2990807.0</td>\n",
       "      <td>Solution  - C++/Java/Python  (Both Brute force...</td>\n",
       "      <td>111.0</td>\n",
       "      <td>67.0</td>\n",
       "      <td>314689.0</td>\n",
       "      <td>['C++', 'Java', 'Python', 'Hash Table', 'Two P...</td>\n",
       "      <td>4733461.0</td>\n",
       "      <td># Beginner doubt - Where is main function?\\n- ...</td>\n",
       "    </tr>\n",
       "    <tr>\n",
       "      <th>2</th>\n",
       "      <td>2</td>\n",
       "      <td>3675059.0</td>\n",
       "      <td>(VIDEO) Step-by-Step Visualization Using a Has...</td>\n",
       "      <td>0.0</td>\n",
       "      <td>0.0</td>\n",
       "      <td>660.0</td>\n",
       "      <td>['Python', 'Python3', 'Array', 'Hash Table']</td>\n",
       "      <td>5619788.0</td>\n",
       "      <td>https://www.youtube.com/watch?v=luicuNOBTAI\\n\\...</td>\n",
       "    </tr>\n",
       "    <tr>\n",
       "      <th>3</th>\n",
       "      <td>3</td>\n",
       "      <td>3662568.0</td>\n",
       "      <td>Python🔥Java🔥 C++🔥Simple Solution🔥Video Solution</td>\n",
       "      <td>0.0</td>\n",
       "      <td>0.0</td>\n",
       "      <td>6176.0</td>\n",
       "      <td>['C++', 'Java', 'Python3', 'Hash Table']</td>\n",
       "      <td>5603349.0</td>\n",
       "      <td># Please UPVOTE \\uD83D\\uDC4D\\n# !! BIG ANNOUNC...</td>\n",
       "    </tr>\n",
       "    <tr>\n",
       "      <th>4</th>\n",
       "      <td>4</td>\n",
       "      <td>3543160.0</td>\n",
       "      <td>Python🔥Java🔥 C++🔥|| Simple Solution</td>\n",
       "      <td>15.0</td>\n",
       "      <td>12.0</td>\n",
       "      <td>81617.0</td>\n",
       "      <td>['C++', 'Java', 'Python3', 'Array', 'Hash Table']</td>\n",
       "      <td>5445878.0</td>\n",
       "      <td># Please UPVOTE \\uD83D\\uDC4D\\n\\n# **!! BIG ANN...</td>\n",
       "    </tr>\n",
       "  </tbody>\n",
       "</table>\n",
       "</div>"
      ],
      "text/plain": [
       "   Unnamed: 0     id_sol                                          title_sol  \\\n",
       "0           0  3619262.0  ✅3 Method's || C++ || JAVA || PYTHON || Beginn...   \n",
       "1           1  2990807.0  Solution  - C++/Java/Python  (Both Brute force...   \n",
       "2           2  3675059.0  (VIDEO) Step-by-Step Visualization Using a Has...   \n",
       "3           3  3662568.0    Python🔥Java🔥 C++🔥Simple Solution🔥Video Solution   \n",
       "4           4  3543160.0                Python🔥Java🔥 C++🔥|| Simple Solution   \n",
       "\n",
       "   commentCount  topLevelCommentCount  viewCount  \\\n",
       "0          22.0                  12.0    64593.0   \n",
       "1         111.0                  67.0   314689.0   \n",
       "2           0.0                   0.0      660.0   \n",
       "3           0.0                   0.0     6176.0   \n",
       "4          15.0                  12.0    81617.0   \n",
       "\n",
       "                                        solutionTags    post_id  \\\n",
       "0  ['C++', 'Java', 'Python3', 'Array', 'Hash Table']  5545248.0   \n",
       "1  ['C++', 'Java', 'Python', 'Hash Table', 'Two P...  4733461.0   \n",
       "2       ['Python', 'Python3', 'Array', 'Hash Table']  5619788.0   \n",
       "3           ['C++', 'Java', 'Python3', 'Hash Table']  5603349.0   \n",
       "4  ['C++', 'Java', 'Python3', 'Array', 'Hash Table']  5445878.0   \n",
       "\n",
       "                                        post_content  \n",
       "0  # Intuition\\n<!-- Describe your first thoughts...  \n",
       "1  # Beginner doubt - Where is main function?\\n- ...  \n",
       "2  https://www.youtube.com/watch?v=luicuNOBTAI\\n\\...  \n",
       "3  # Please UPVOTE \\uD83D\\uDC4D\\n# !! BIG ANNOUNC...  \n",
       "4  # Please UPVOTE \\uD83D\\uDC4D\\n\\n# **!! BIG ANN...  "
      ]
     },
     "execution_count": 17,
     "metadata": {},
     "output_type": "execute_result"
    }
   ],
   "source": [
    "data = pd.read_csv(globPaths[0])\n",
    "print(data.shape)\n",
    "data.head()"
   ]
  },
  {
   "cell_type": "markdown",
   "id": "6a9b38dd-53a6-4149-a6f9-459eac2cf7b8",
   "metadata": {},
   "source": [
    "## Распределение количества комментариев"
   ]
  },
  {
   "cell_type": "code",
   "execution_count": 33,
   "id": "82e9a6b7-7803-48ee-8f44-32f58aa6050c",
   "metadata": {},
   "outputs": [
    {
     "name": "stdout",
     "output_type": "stream",
     "text": [
      "nunique:  285\n",
      "\n",
      "0.0      2840287\n",
      "1.0       142866\n",
      "2.0        71384\n",
      "3.0        26739\n",
      "4.0        14396\n",
      "          ...   \n",
      "221.0          1\n",
      "263.0          1\n",
      "270.0          1\n",
      "185.0          1\n",
      "245.0          1\n",
      "Name: commentCount, Length: 285, dtype: int64\n"
     ]
    }
   ],
   "source": [
    "print('nunique: ', data.commentCount.nunique(), end='\\n\\n')\n",
    "print(data.commentCount.value_counts())"
   ]
  },
  {
   "cell_type": "code",
   "execution_count": null,
   "id": "800b4bda-bcb1-4279-8557-35dbd7cefd81",
   "metadata": {},
   "outputs": [],
   "source": []
  }
 ],
 "metadata": {
  "kernelspec": {
   "display_name": "Python 3 (ipykernel)",
   "language": "python",
   "name": "python3"
  },
  "language_info": {
   "codemirror_mode": {
    "name": "ipython",
    "version": 3
   },
   "file_extension": ".py",
   "mimetype": "text/x-python",
   "name": "python",
   "nbconvert_exporter": "python",
   "pygments_lexer": "ipython3",
   "version": "3.8.16"
  },
  "widgets": {
   "application/vnd.jupyter.widget-state+json": {
    "state": {},
    "version_major": 2,
    "version_minor": 0
   }
  }
 },
 "nbformat": 4,
 "nbformat_minor": 5
}
